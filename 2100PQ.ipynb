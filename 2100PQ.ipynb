{
 "cells": [
  {
   "cell_type": "code",
   "execution_count": 1,
   "id": "7da9b616-2844-4ec4-b026-6ea8ceddec4e",
   "metadata": {},
   "outputs": [
    {
     "data": {
      "text/html": [
       "<style>\n",
       "\t\t\t\t\t\t\t\t\t\t\t\t\t.grid-container {\n",
       "\t\t\t\t\t\t\t\t\t\t\t\t\t\tdisplay: inline-grid;\n",
       "\t\t\t\t\t\t\t\t\t\t\t\t\t\tgrid-template-columns: auto;\n",
       "\t\t\t\t\t\t\t\t\t\t\t\t\t}\n",
       "\t\t\t\t\t\t\t\t\t\t\t\t</style>\n",
       "\n",
       "\t\t\t\t\t\t\t\t\t\t\t\t<div><div class=\"grid-container\"><div class=\"grid-item\"><img alt=\"Output\" src=\"data:image/png;base64,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\"></div><div class=\"grid-item\"><img alt=\"Output\" src=\"data:image/png;base64,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\"></div><div class=\"grid-item\"><img alt=\"Output\" src=\"data:image/png;base64,iVBORw0KGgoAAAANSUhEUgAAACUAAAAsCAIAAABt8+acAAAA1HpUWHRSYXcgcHJvZmlsZSB0eXBlIGV4aWYAAHjabU9BEsMgCLz7ij4BARd9jknMTH/Q5xei0046XSewrAuRNF7PMz0CnClpsYoGkEObNu5OKk3MnKld8QKXdZfveuJ96d2l8r3AWPp21w1rYP0ZRDyJxB+ci66GNUh46rnPelt+7rXeBp37eWE9mECfp/+tVYxRkE09KpMZmvOanHpCYSqGEzvgxoyDSXfPA2beBguH9GgM8LC7eySIC0esIPGxdM/mkcW3kjhdilSPKo0Pr/XyxDpvnvdcZeJmbA4AAAAJcEhZcwAADsQAAA7EAZUrDhsAAAA8dEVYdFNvZnR3YXJlAENyZWF0ZWQgd2l0aCB0aGUgV29sZnJhbSBMYW5ndWFnZSA6IHd3dy53b2xmcmFtLmNvbVyipoUAAAAhdEVYdENyZWF0aW9uIFRpbWUAMjAyMjowNzoyMyAwMDo1ODo0OTxz0UMAAAQQSURBVFiF7VdNSGpbFF5JkaGl1wzLDCV/KLSJVJP+oBwkNQgrQqGIoolQg6JZRFCkRH8EijRtUhhCIFIhITQoJCFK09QgtQRLqbS0MvMOfE9OR28P7+Ne3uW1Rmd96zvrO3ufvfZeOysej8NvNMzvFEujZ7VaFQqFQCDAYDAWiwUVDYfDUqm0vLycQqF0dnZeXV0lQ+Pj41npTKfTITNkozLqdDqDwfD8/Jx2nltbW4PB4Orqan5+/tzcXE1NzdnZ2bdv3wBgeHi4q6sLSV5YWLi4uGhpafmQIp7ODg8PAcBsNiPB7e3t7Ozs6+vrhBuLxZhM5vT0dNoMBwcHJBLJ4XCg8Az+n1arbW5uplKpCReDwYjFYq1Wm8qMRqO9vb0zMzMsFgsVykDP7XbT6XQAGBwc5PP5sViMwWC4XK5U5traWjgcHhgYSA1loBcMBnE4HAAcHx+fn59HIhE8Hv/w8JDKlMvlIyMjubm5qSH0evnEqFTq7e0tAOzt7YVCITwef3NzU1paiqKZzWaHwyEUCtMmyWB8dDrdZrMBAIFAoNFoAGC1WhkMBoqm1+uJRCKPx/u3emKx2GQyJYsyEomo1WqxWIyiGY1GLpeLwaTP/GE+Hx8ffT4fAHg8HgBwu91YLBYAmEwmAFRVVXV3d3d0dCiVyoKCgsnJSTKZLJFIUBm9Xm9RUdEPvxpZHOvr62k5b29vCUI0Gh0bG2MymRQKRSwW+/3+1Mpjs9lDQ0NpizIej2f9z/brL70vvf+S3l/7i0aj8fv9v0hDIpHg8fgPeiwWq6Sk5Bfp5eTkJJ+/9pcvvT9J7/N+fnNzs62trbCwkMFgSKXSQCCAjMZisdnZWTabjcPheDyeQqFII4g6f+fn59vb2+vq6iClv5bJZGQyeWlp6ejoSKPRcDicpqam9/f3JGFiYoJOpxsMBp/Pt7W1RSKRVCoVKn8G/bzH47m8vEy6+/v7AGC325NIZWXl4uJi0p2amhIIBKjMGfSfiR4wacXFxQAQCoWQiMlkSro+n4/D4fzDfH4yPpStrKwQicRoNJpEzGYzjUYTCoU7Ozu7u7ssFiv1vvKTem63m0gkKpVKJBgOh/v6+vh8fl5eHgDI5fLUF39Gz+/38/l8kUiEXCyBQIDD4SwvL8fj8fv7e5VKRSaTUxvDjPW8Xi+XyxWJRK+vr0hcJpPV1tYiEb1enygwJJhZvbtcroaGhoqKio2NDeQpAwAvLy9PT09IJHGVCYfDP1wvoVDI6XQ6nU61Wg0AOp0u4SaiNpuNRqM1Njaenp4e/W0nJyeJqN1uJxAI/f39Fovl7u7OaDTW19dXV1cne/M08/l5P4++iQMAAIPBSL5usVh6enrKysqwWCybzR4dHU1t+L/O2z9b7zuGuC9lLkrM4AAAAABJRU5ErkJggg==\"></div><div class=\"grid-item\"><img alt=\"Output\" src=\"data:image/png;base64,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\"></div><div class=\"grid-item\"><img alt=\"Output\" src=\"data:image/png;base64,iVBORw0KGgoAAAANSUhEUgAAACUAAAAsCAIAAABt8+acAAAA1HpUWHRSYXcgcHJvZmlsZSB0eXBlIGV4aWYAAHjabU9BEsMgCLz7ij4BARd9jknMTH/Q5xei0046XSewrAuRNF7PMz0CnClpsYoGkEObNu5OKk3MnKld8QKXdZfveuJ96d2l8r3AWPp21w1rYP0ZRDyJxB+ci66GNUh46rnPelt+7rXeBp37eWE9mECfp/+tVYxRkE09KpMZmvOanHpCYSqGEzvgxoyDSXfPA2beBguH9GgM8LC7eySIC0esIPGxdM/mkcW3kjhdilSPKo0Pr/XyxDpvnvdcZeJmbA4AAAAJcEhZcwAADsQAAA7EAZUrDhsAAAA8dEVYdFNvZnR3YXJlAENyZWF0ZWQgd2l0aCB0aGUgV29sZnJhbSBMYW5ndWFnZSA6IHd3dy53b2xmcmFtLmNvbVyipoUAAAAhdEVYdENyZWF0aW9uIFRpbWUAMjAyMjowNzoyMyAwMDo1ODo0OTxz0UMAAAQYSURBVFiF7ZdNSDJbGMdPZm+FQ0iKWWoampliUEjkQl1kbqJA25hBUFSLklbSxk2rPlYuKomKaBMVqEGLFIo+iCJLilIpJPwsSzJamJFl+i7m3sHM5t7bpZf7cvtv9Hn+z3N+c+YcZs5kJZNJ8AuF+ZWwDDyDwdDY2EggEBgMRm9v793dXaprs9mkUikej6+srBwYGIjFYqnuzc1Ne3s7mUymUChKpTIYDGYAJlM0PDxMJBJ1Op3NZjOZTGw2WyKRJBIJ2HU4HLm5uRqNxm63r62tVVdXi8VixI1Go2w2WyaTWa3Wg4MDlUpFIpGur6+Tb/WGFwgEvF4vEu7s7AAAXC4XHLa1tTU0NCBuKBSCIMhgMMDh9PR0YWFhJBJBCmpra9VqdRrvzf2kUql0Oh0JyWQyACASicChw+Goq6tDXBKJ1NzcvLS0hLg8Hg+CIKSgq6sLcT9cv1SZzWY8Hl9VVQWHJSUlXq83dSEwGIzb7UZcv9+fSCSQgqysrNvbW+RyM6xfqvx+Px6P1+v1SGZ+fh6Lxc7MzASDwd3dXYVCQSaTS0tLYffi4iI/P1+tVns8HqfTqdVqKRQKAMDtdn+4fojC4XBNTY1CoUC2Ayy9Xl9RUYHD4YRC4dzcnEajkUgkiLu5uSkUCiEI4nK5Wq3WaDRisdjn5+e/4AWDQR6Pp1Ao0krfSyaTdXd3f+QODQ2Vl5enJdN5Xq+XyWS2tLS8vLygww4PDzEYzN7eXkY3EomQyeSRkRE03vn5OZVKFYvFdrvd9qdOT09h12w2KxQKi8VyfHw8OTlJIBB6enqQXp/PJ5PJFhYWTk5OlpeX+Xw+n89/enpC49XX17/fpQwGA3bv7+/7+/s5HA4EQQKBYGpqKrU3Ho/rdDqBQABBEIfD0Wg0j4+P7+edlfx/Pa+/ed+8/xIPC/+YTKZwOPxFDJVKhbwX/+CxWKzi4uIv4uXk5CD/v58v37zfmHd2djYxMSGVSjEYjNPpfF/g9/uVSiWdTicSiTKZbGtr61/xVldXLRYLfCx47zqdTj6fH41Gx8bGjEajSCQaHx9/fX1FGzHjaSdN+/v7AACHw5GWl0qlcrn874yACIs+PxT5fL719fWjo6N/1PX5/eJyubKzswkEQkdHB41GKyoqam1tvby8/Cqex+P58eOHVCoVCoXb29srKysej0cul6d+QmTQp9cPPq6fnZ0hGYfDAQCw2+0oQ31+fmVlZfF4PPUDjMViAQCurq5Quj7P4/P5bDZ7dnYWyVitVgAAl8tF6ULbnw8PD6FQCAAQCAQAAH6/Py8vDwDAZDIBAFgsdnR0VKVS4XC4pqYmj8fT19fX2dlJo9HQLhPlXi8uLmZsicfjSM3GxoZIJCooKGCxWIODg7FYDH0rfL9vf2/eTwvra2XLTZ9qAAAAAElFTkSuQmCC\"></div></div></div>"
      ],
      "text/plain": [
       "1305\n",
       "----\n",
       "8192\n",
       "2523\n",
       "----\n",
       " 32\n",
       "107\n",
       "---\n",
       "128\n",
       "2413\n",
       "----\n",
       "128\n",
       "299\n",
       "---\n",
       "16"
      ]
     },
     "execution_count": 1,
     "metadata": {
      "text/html": [],
      "text/plain": []
     },
     "output_type": "execute_result"
    }
   ],
   "source": [
    "m1 = 2610/16384\n",
    "m2 = 2523/4096 * 128\n",
    "c1 = 3424/4096\n",
    "c2 = 2413/4096 * 32\n",
    "c3 = 2392/4096 * 32"
   ]
  },
  {
   "cell_type": "code",
   "execution_count": 61,
   "id": "179ad12a-4f0d-440d-a75a-8ccfb5604539",
   "metadata": {},
   "outputs": [],
   "source": [
    "EOTF[Ep_]:=10000*(Max[Ep^(1/m2) - c1,0]/(c2 - c3*Ep^(1/m2)))^(1/m1)"
   ]
  },
  {
   "cell_type": "code",
   "execution_count": 75,
   "id": "15722781-5ad6-4171-80e1-f1866d87bede",
   "metadata": {},
   "outputs": [],
   "source": [
    "G709[E_]:=Piecewise[{{1.099*(59.5208*E)^0.45 - 0.099, 1>E > 0.0003024}, {267.84*E, True}}]\n",
    "G1886[Ep_]:=100*Ep^2.4\n",
    "OOTF[E_]:=G1886[G709[E]]"
   ]
  },
  {
   "cell_type": "code",
   "execution_count": 78,
   "id": "3d2bcec5-1c3e-46ec-93b8-74e2c139a012",
   "metadata": {},
   "outputs": [],
   "source": [
    "G709inv[Ep_]:=Piecewise[{{(((Ep + 0.099)/1.099)^(1/0.45))/59.5208, Ep > 0.0809948}, {Ep/267.84, True}}]\n",
    "G1886inv[Fd_]:=(Fd/100)^(1/2.4)\n",
    "OOTFinv[Fd_]:=G709inv[G1886inv[Fd]]"
   ]
  },
  {
   "cell_type": "code",
   "execution_count": 98,
   "id": "4eea05c6-7174-42ed-b525-ca241be1ff0f",
   "metadata": {},
   "outputs": [],
   "source": [
    "EOTFinv[Fd_]:=((c1+c2*(Fd/10000)^m1)/(1+c3*(Fd/10000)^m1))^m2\n",
    "OETF[E_]:=EOTFinv[OOTF[E]]"
   ]
  },
  {
   "cell_type": "code",
   "execution_count": 101,
   "id": "18e5761f-0cef-493c-87d9-4c538edff1d9",
   "metadata": {},
   "outputs": [
    {
     "data": {
      "text/html": [
       "<div><pre style=\"&#102;&#111;&#110;&#116;&#45;&#102;&#97;&#109;&#105;&#108;&#121;&#58;&#32;&#34;&#67;&#111;&#117;&#114;&#105;&#101;&#114;&#32;&#78;&#101;&#119;&#34;&#44;&#67;&#111;&#117;&#114;&#105;&#101;&#114;&#44;&#109;&#111;&#110;&#111;&#115;&#112;&#97;&#99;&#101;&#59;\">&#49;&#46;&#54;&#55;&#49;&#52;&#51;</pre></div>"
      ],
      "text/plain": [
       "1.67143"
      ]
     },
     "execution_count": 101,
     "metadata": {
      "text/html": [],
      "text/plain": []
     },
     "output_type": "execute_result"
    }
   ],
   "source": [
    "OETF[0.9"
   ]
  },
  {
   "cell_type": "code",
   "execution_count": null,
   "id": "b858067f-23ec-46f9-9e31-26bb0cc32be4",
   "metadata": {},
   "outputs": [],
   "source": []
  }
 ],
 "metadata": {
  "kernelspec": {
   "display_name": "Wolfram Language 13",
   "language": "Wolfram Language",
   "name": "wolframlanguage13"
  },
  "language_info": {
   "codemirror_mode": "mathematica",
   "file_extension": ".m",
   "mimetype": "application/vnd.wolfram.m",
   "name": "Wolfram Language",
   "pygments_lexer": "mathematica",
   "version": "12.0"
  }
 },
 "nbformat": 4,
 "nbformat_minor": 5
}
